{
 "cells": [
  {
   "cell_type": "code",
   "execution_count": 44,
   "metadata": {},
   "outputs": [],
   "source": [
    "import cv2\n",
    "\n",
    "# Open a connection to the webcam (you may need to change the argument based on your webcam index)\n",
    "cap = cv2.VideoCapture(0)\n",
    "\n",
    "while True:\n",
    "    # Capture frame-by-frame\n",
    "    ret, frame = cap.read()\n",
    "\n",
    "    # Display the frame\n",
    "    cv2.imshow('Webcam', frame)\n",
    "\n",
    "    # Wait for the user to press 'c' to capture an image\n",
    "    key = cv2.waitKey(1) & 0xFF\n",
    "    if key == ord('c'):\n",
    "        # Save the captured image (you can change the filename as needed)\n",
    "        cv2.imwrite('captured_image.jpg', frame)\n",
    "        print(\"Image captured!\")\n",
    "\n",
    "    # Break the loop if the user presses 'q'\n",
    "    elif key == ord('q'):\n",
    "        break\n",
    "\n",
    "# Release the webcam and close the OpenCV window\n",
    "cap.release()\n",
    "cv2.destroyAllWindows()\n"
   ]
  },
  {
   "cell_type": "code",
   "execution_count": 2,
   "metadata": {},
   "outputs": [
    {
     "name": "stdout",
     "output_type": "stream",
     "text": [
      "(482, 338, 3) (480, 640, 3)\n"
     ]
    }
   ],
   "source": [
    "# from skimage import metrics\n",
    "# # Load images\n",
    "# image1 = cv2.imread(\"aadhaar_photo.jpg\")\n",
    "# image2 = cv2.imread(\"captured_image.jpg\")\n",
    "# # image2 = cv2.resize(image2, (image1.shape[1], image1.shape[0]), interpolation = cv2.INTER_AREA)\n",
    "# print(image1.shape, image2.shape)\n",
    "# # Convert images to grayscale\n",
    "# image1_gray = cv2.cvtColor(image1, cv2.COLOR_BGR2GRAY)\n",
    "# image2_gray = cv2.cvtColor(image2, cv2.COLOR_BGR2GRAY)"
   ]
  },
  {
   "cell_type": "code",
   "execution_count": 45,
   "metadata": {},
   "outputs": [],
   "source": [
    "import face_recognition\n",
    "\n",
    "image1 = face_recognition.load_image_file(\"aadhaar_photo.jpg\")\n",
    "face_locations = face_recognition.face_locations(image1)"
   ]
  },
  {
   "cell_type": "code",
   "execution_count": 46,
   "metadata": {},
   "outputs": [],
   "source": [
    "from PIL import Image\n",
    "\n",
    "def get_face_from_image(input_image):\n",
    "\n",
    "    face_locations = face_recognition.face_locations(input_image)\n",
    "\n",
    "    for face_location in face_locations:\n",
    "\n",
    "        # Print the location of each face in this image\n",
    "        top, right, bottom, left = face_location\n",
    "        print(\"A face is located at pixel location Top: {}, Left: {}, Bottom: {}, Right: {}\".format(top, left, bottom, right))\n",
    "\n",
    "        # You can access the actual face itself like this:\n",
    "        input_image = input_image[top:bottom, left:right]\n",
    "\n",
    "        return input_image"
   ]
  },
  {
   "cell_type": "code",
   "execution_count": 47,
   "metadata": {},
   "outputs": [
    {
     "name": "stdout",
     "output_type": "stream",
     "text": [
      "A face is located at pixel location Top: 118, Left: 68, Bottom: 341, Right: 291\n",
      "A face is located at pixel location Top: 139, Left: 159, Bottom: 325, Right: 345\n"
     ]
    }
   ],
   "source": [
    "# Load images\n",
    "image1 = cv2.imread(\"aadhaar_photo.jpg\")\n",
    "image2 = cv2.imread(\"captured_image.jpg\")\n",
    "\n",
    "trial_img_1 = get_face_from_image(image1)\n",
    "trial_img_2 = get_face_from_image(image2)"
   ]
  },
  {
   "cell_type": "code",
   "execution_count": 48,
   "metadata": {},
   "outputs": [],
   "source": [
    "# Convert images to grayscale\n",
    "image1_gray = cv2.cvtColor(trial_img_1, cv2.COLOR_BGR2GRAY)\n",
    "image2_gray = cv2.cvtColor(trial_img_2, cv2.COLOR_BGR2GRAY)"
   ]
  },
  {
   "cell_type": "code",
   "execution_count": 49,
   "metadata": {},
   "outputs": [
    {
     "data": {
      "text/plain": [
       "(223, 223)"
      ]
     },
     "execution_count": 49,
     "metadata": {},
     "output_type": "execute_result"
    }
   ],
   "source": [
    "image1_gray.shape"
   ]
  },
  {
   "cell_type": "code",
   "execution_count": 50,
   "metadata": {},
   "outputs": [
    {
     "data": {
      "text/plain": [
       "(186, 186)"
      ]
     },
     "execution_count": 50,
     "metadata": {},
     "output_type": "execute_result"
    }
   ],
   "source": [
    "image2_gray.shape"
   ]
  },
  {
   "cell_type": "code",
   "execution_count": 51,
   "metadata": {},
   "outputs": [
    {
     "name": "stdout",
     "output_type": "stream",
     "text": [
      "SSIM Score:  0.4\n"
     ]
    }
   ],
   "source": [
    "# Calculate SSIM\n",
    "\n",
    "image2_gray = cv2.resize(image2_gray, (image1_gray.shape[1], image1_gray.shape[0]), interpolation = cv2.INTER_AREA)\n",
    "\n",
    "ssim_score = metrics.structural_similarity(image1_gray, image2_gray, full=True)\n",
    "print(f\"SSIM Score: \", round(ssim_score[0], 2))"
   ]
  },
  {
   "cell_type": "code",
   "execution_count": 42,
   "metadata": {},
   "outputs": [],
   "source": [
    "pil_image = Image.fromarray(image1_gray)\n",
    "pil_image.show()"
   ]
  },
  {
   "cell_type": "code",
   "execution_count": 43,
   "metadata": {},
   "outputs": [],
   "source": [
    "pil_image = Image.fromarray(image2_gray)\n",
    "pil_image.show()"
   ]
  },
  {
   "cell_type": "code",
   "execution_count": null,
   "metadata": {},
   "outputs": [],
   "source": []
  }
 ],
 "metadata": {
  "kernelspec": {
   "display_name": "cholamandalam",
   "language": "python",
   "name": "python3"
  },
  "language_info": {
   "codemirror_mode": {
    "name": "ipython",
    "version": 3
   },
   "file_extension": ".py",
   "mimetype": "text/x-python",
   "name": "python",
   "nbconvert_exporter": "python",
   "pygments_lexer": "ipython3",
   "version": "3.10.13"
  }
 },
 "nbformat": 4,
 "nbformat_minor": 2
}

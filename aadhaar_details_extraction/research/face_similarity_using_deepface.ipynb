{
 "cells": [
  {
   "cell_type": "code",
   "execution_count": 1,
   "metadata": {},
   "outputs": [
    {
     "name": "stdout",
     "output_type": "stream",
     "text": [
      "WARNING:tensorflow:From c:\\Users\\DELL\\.conda\\envs\\cholamandalam\\lib\\site-packages\\keras\\src\\losses.py:2976: The name tf.losses.sparse_softmax_cross_entropy is deprecated. Please use tf.compat.v1.losses.sparse_softmax_cross_entropy instead.\n",
      "\n"
     ]
    }
   ],
   "source": [
    "from deepface import DeepFace\n"
   ]
  },
  {
   "cell_type": "code",
   "execution_count": 2,
   "metadata": {},
   "outputs": [],
   "source": [
    "import cv2\n",
    "\n",
    "# Open a connection to the webcam (you may need to change the argument based on your webcam index)\n",
    "cap = cv2.VideoCapture(0)\n",
    "\n",
    "while True:\n",
    "    # Capture frame-by-frame\n",
    "    ret, frame = cap.read()\n",
    "\n",
    "    # Display the frame\n",
    "    cv2.imshow('Webcam', frame)\n",
    "\n",
    "    # Wait for the user to press 'c' to capture an image\n",
    "    key = cv2.waitKey(1) & 0xFF\n",
    "    if key == ord('c'):\n",
    "        # Save the captured image (you can change the filename as needed)\n",
    "        cv2.imwrite('captured_image.jpg', frame)\n",
    "        print(\"Image captured!\")\n",
    "\n",
    "    # Break the loop if the user presses 'q'\n",
    "    elif key == ord('q'):\n",
    "        break\n",
    "\n",
    "# Release the webcam and close the OpenCV window\n",
    "cap.release()\n",
    "cv2.destroyAllWindows()\n"
   ]
  },
  {
   "cell_type": "code",
   "execution_count": 4,
   "metadata": {},
   "outputs": [],
   "source": [
    "from PIL import Image\n",
    "import face_recognition\n",
    "\n",
    "\n",
    "def get_face_from_image(input_image):\n",
    "\n",
    "    face_locations = face_recognition.face_locations(input_image)\n",
    "\n",
    "    for face_location in face_locations:\n",
    "\n",
    "        # Print the location of each face in this image\n",
    "        top, right, bottom, left = face_location\n",
    "        print(\"A face is located at pixel location Top: {}, Left: {}, Bottom: {}, Right: {}\".format(top, left, bottom, right))\n",
    "\n",
    "        # You can access the actual face itself like this:\n",
    "        input_image = input_image[top:bottom, left:right]\n",
    "\n",
    "        return input_image"
   ]
  },
  {
   "cell_type": "code",
   "execution_count": 5,
   "metadata": {},
   "outputs": [
    {
     "name": "stdout",
     "output_type": "stream",
     "text": [
      "A face is located at pixel location Top: 118, Left: 68, Bottom: 341, Right: 291\n",
      "A face is located at pixel location Top: 139, Left: 159, Bottom: 325, Right: 345\n"
     ]
    }
   ],
   "source": [
    "# Load images\n",
    "image1 = cv2.imread(\"aadhaar_photo.jpg\")\n",
    "image2 = cv2.imread(\"captured_image.jpg\")\n",
    "\n",
    "trial_img_1 = get_face_from_image(image1)\n",
    "trial_img_2 = get_face_from_image(image2)"
   ]
  },
  {
   "cell_type": "code",
   "execution_count": 6,
   "metadata": {},
   "outputs": [],
   "source": [
    "# Convert images to grayscale\n",
    "image1_gray = cv2.cvtColor(trial_img_1, cv2.COLOR_BGR2GRAY)\n",
    "image2_gray = cv2.cvtColor(trial_img_2, cv2.COLOR_BGR2GRAY)"
   ]
  },
  {
   "cell_type": "code",
   "execution_count": null,
   "metadata": {},
   "outputs": [],
   "source": [
    "# Calculate SSIM\n",
    "from skimage import metrics\n",
    "\n",
    "image2_gray = cv2.resize(image2_gray, (image1_gray.shape[1], image1_gray.shape[0]), interpolation = cv2.INTER_AREA)\n",
    "\n",
    "ssim_score = metrics.structural_similarity(image1_gray, image2_gray, full=True)\n",
    "print(f\"SSIM Score: \", round(ssim_score[0], 2))"
   ]
  },
  {
   "cell_type": "code",
   "execution_count": 9,
   "metadata": {},
   "outputs": [],
   "source": [
    "pil_image = Image.fromarray(image1_gray)\n",
    "pil_image.show()\n",
    "pil_image.save(\"deepface_input_1.jpg\")"
   ]
  },
  {
   "cell_type": "code",
   "execution_count": 10,
   "metadata": {},
   "outputs": [],
   "source": [
    "pil_image_2 = Image.fromarray(image2_gray)\n",
    "pil_image_2.show()\n",
    "pil_image_2.save(\"deepface_input_2.jpg\")"
   ]
  },
  {
   "cell_type": "code",
   "execution_count": null,
   "metadata": {},
   "outputs": [],
   "source": []
  },
  {
   "cell_type": "code",
   "execution_count": 24,
   "metadata": {},
   "outputs": [],
   "source": [
    "result = DeepFace.verify(img1_path = \"captured_image.jpg\", img2_path = \"aadhaar_photo.jpg\", enforce_detection=False)\n"
   ]
  },
  {
   "cell_type": "code",
   "execution_count": 25,
   "metadata": {},
   "outputs": [
    {
     "data": {
      "text/plain": [
       "{'verified': False,\n",
       " 'distance': 0.8267487207202431,\n",
       " 'threshold': 0.68,\n",
       " 'model': 'VGG-Face',\n",
       " 'detector_backend': 'opencv',\n",
       " 'similarity_metric': 'cosine',\n",
       " 'facial_areas': {'img1': {'x': 153, 'y': 116, 'w': 209, 'h': 209},\n",
       "  'img2': {'x': 57, 'y': 74, 'w': 249, 'h': 249}},\n",
       " 'time': 1.04}"
      ]
     },
     "execution_count": 25,
     "metadata": {},
     "output_type": "execute_result"
    }
   ],
   "source": [
    "result"
   ]
  },
  {
   "cell_type": "code",
   "execution_count": null,
   "metadata": {},
   "outputs": [],
   "source": []
  }
 ],
 "metadata": {
  "kernelspec": {
   "display_name": "cholamandalam",
   "language": "python",
   "name": "python3"
  },
  "language_info": {
   "codemirror_mode": {
    "name": "ipython",
    "version": 3
   },
   "file_extension": ".py",
   "mimetype": "text/x-python",
   "name": "python",
   "nbconvert_exporter": "python",
   "pygments_lexer": "ipython3",
   "version": "3.10.13"
  }
 },
 "nbformat": 4,
 "nbformat_minor": 2
}
